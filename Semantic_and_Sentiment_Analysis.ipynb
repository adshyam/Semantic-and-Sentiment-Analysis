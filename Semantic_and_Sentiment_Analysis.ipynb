{
 "cells": [
  {
   "cell_type": "markdown",
   "id": "bda35963",
   "metadata": {},
   "source": [
    "# Import Libraries"
   ]
  },
  {
   "cell_type": "code",
   "execution_count": 203,
   "id": "8f59c7bd",
   "metadata": {},
   "outputs": [],
   "source": [
    "import pandas as pd\n",
    "import matplotlib.pyplot as plt\n",
    "import seaborn as sns\n",
    "from scipy.sparse import vstack\n",
    "from sklearn.feature_extraction.text import TfidfVectorizer, CountVectorizer\n",
    "from sklearn.model_selection import train_test_split\n",
    "from sklearn.ensemble import RandomForestClassifier\n",
    "from sklearn.model_selection import GridSearchCV\n",
    "from sklearn.metrics import accuracy_score, precision_score, recall_score, f1_score\n",
    "from sklearn.metrics import classification_report, confusion_matrix\n",
    "import warnings\n",
    "warnings.filterwarnings('ignore')\n"
   ]
  },
  {
   "cell_type": "markdown",
   "id": "90ecf67a",
   "metadata": {},
   "source": [
    "# Loading Datasets"
   ]
  },
  {
   "cell_type": "code",
   "execution_count": 178,
   "id": "873b7cdd",
   "metadata": {},
   "outputs": [],
   "source": [
    "\n",
    "data1 = pd.read_excel(\"Legal_Sentences_For_Training_With_BERT_With_Label.xlsx\")\n",
    "data2 = pd.read_excel(\"Testing_Set_Legal_Sentences.xlsx\")\n"
   ]
  },
  {
   "cell_type": "code",
   "execution_count": 179,
   "id": "eed9fb31",
   "metadata": {},
   "outputs": [
    {
     "data": {
      "text/html": [
       "<div>\n",
       "<style scoped>\n",
       "    .dataframe tbody tr th:only-of-type {\n",
       "        vertical-align: middle;\n",
       "    }\n",
       "\n",
       "    .dataframe tbody tr th {\n",
       "        vertical-align: top;\n",
       "    }\n",
       "\n",
       "    .dataframe thead th {\n",
       "        text-align: right;\n",
       "    }\n",
       "</style>\n",
       "<table border=\"1\" class=\"dataframe\">\n",
       "  <thead>\n",
       "    <tr style=\"text-align: right;\">\n",
       "      <th></th>\n",
       "      <th>ID</th>\n",
       "      <th>Phrase</th>\n",
       "      <th>Sentiment</th>\n",
       "      <th>Label</th>\n",
       "    </tr>\n",
       "  </thead>\n",
       "  <tbody>\n",
       "    <tr>\n",
       "      <th>0</th>\n",
       "      <td>1</td>\n",
       "      <td>Getting nowhere with surplusage</td>\n",
       "      <td>-1</td>\n",
       "      <td>0</td>\n",
       "    </tr>\n",
       "    <tr>\n",
       "      <th>1</th>\n",
       "      <td>2</td>\n",
       "      <td>But the Court nowhere suggested that it would ...</td>\n",
       "      <td>-1</td>\n",
       "      <td>0</td>\n",
       "    </tr>\n",
       "    <tr>\n",
       "      <th>2</th>\n",
       "      <td>3</td>\n",
       "      <td>Petitioners objection to shaving his beard cla...</td>\n",
       "      <td>-1</td>\n",
       "      <td>0</td>\n",
       "    </tr>\n",
       "    <tr>\n",
       "      <th>3</th>\n",
       "      <td>4</td>\n",
       "      <td>That result clashes with everything else</td>\n",
       "      <td>-1</td>\n",
       "      <td>0</td>\n",
       "    </tr>\n",
       "    <tr>\n",
       "      <th>4</th>\n",
       "      <td>5</td>\n",
       "      <td>the tolerable duration of police inquiries in ...</td>\n",
       "      <td>0</td>\n",
       "      <td>1</td>\n",
       "    </tr>\n",
       "  </tbody>\n",
       "</table>\n",
       "</div>"
      ],
      "text/plain": [
       "   ID                                             Phrase  Sentiment  Label\n",
       "0   1                    Getting nowhere with surplusage         -1      0\n",
       "1   2  But the Court nowhere suggested that it would ...         -1      0\n",
       "2   3  Petitioners objection to shaving his beard cla...         -1      0\n",
       "3   4           That result clashes with everything else         -1      0\n",
       "4   5  the tolerable duration of police inquiries in ...          0      1"
      ]
     },
     "execution_count": 179,
     "metadata": {},
     "output_type": "execute_result"
    }
   ],
   "source": [
    "data1.head()"
   ]
  },
  {
   "cell_type": "code",
   "execution_count": 180,
   "id": "2f5c5efd",
   "metadata": {},
   "outputs": [
    {
     "data": {
      "text/html": [
       "<div>\n",
       "<style scoped>\n",
       "    .dataframe tbody tr th:only-of-type {\n",
       "        vertical-align: middle;\n",
       "    }\n",
       "\n",
       "    .dataframe tbody tr th {\n",
       "        vertical-align: top;\n",
       "    }\n",
       "\n",
       "    .dataframe thead th {\n",
       "        text-align: right;\n",
       "    }\n",
       "</style>\n",
       "<table border=\"1\" class=\"dataframe\">\n",
       "  <thead>\n",
       "    <tr style=\"text-align: right;\">\n",
       "      <th></th>\n",
       "      <th>ID</th>\n",
       "      <th>sentence</th>\n",
       "      <th>label</th>\n",
       "    </tr>\n",
       "  </thead>\n",
       "  <tbody>\n",
       "    <tr>\n",
       "      <th>0</th>\n",
       "      <td>1</td>\n",
       "      <td>has done nothing to satisfy the probable-cause...</td>\n",
       "      <td>0</td>\n",
       "    </tr>\n",
       "    <tr>\n",
       "      <th>1</th>\n",
       "      <td>2</td>\n",
       "      <td>Addressing that question here , the CCA referr...</td>\n",
       "      <td>1</td>\n",
       "    </tr>\n",
       "    <tr>\n",
       "      <th>2</th>\n",
       "      <td>3</td>\n",
       "      <td>standards and procedures</td>\n",
       "      <td>1</td>\n",
       "    </tr>\n",
       "    <tr>\n",
       "      <th>3</th>\n",
       "      <td>4</td>\n",
       "      <td>has no comprehension of why he has been single...</td>\n",
       "      <td>0</td>\n",
       "    </tr>\n",
       "    <tr>\n",
       "      <th>4</th>\n",
       "      <td>5</td>\n",
       "      <td>an expert , Dr. Woods , who offered the opinio...</td>\n",
       "      <td>2</td>\n",
       "    </tr>\n",
       "  </tbody>\n",
       "</table>\n",
       "</div>"
      ],
      "text/plain": [
       "   ID                                           sentence  label\n",
       "0   1  has done nothing to satisfy the probable-cause...      0\n",
       "1   2  Addressing that question here , the CCA referr...      1\n",
       "2   3                           standards and procedures      1\n",
       "3   4  has no comprehension of why he has been single...      0\n",
       "4   5  an expert , Dr. Woods , who offered the opinio...      2"
      ]
     },
     "execution_count": 180,
     "metadata": {},
     "output_type": "execute_result"
    }
   ],
   "source": [
    "data2.head()"
   ]
  },
  {
   "cell_type": "markdown",
   "id": "92af1e35",
   "metadata": {},
   "source": [
    "# Data Exploration and Preprocessing"
   ]
  },
  {
   "cell_type": "code",
   "execution_count": 181,
   "id": "20cf44e9",
   "metadata": {},
   "outputs": [
    {
     "name": "stdout",
     "output_type": "stream",
     "text": [
      "ID           0\n",
      "Phrase       0\n",
      "Sentiment    0\n",
      "Label        0\n",
      "dtype: int64\n",
      "ID          0\n",
      "sentence    0\n",
      "label       0\n",
      "dtype: int64\n"
     ]
    }
   ],
   "source": [
    "# Check for missing values\n",
    "print(data1.isnull().sum())\n",
    "print(data2.isnull().sum())"
   ]
  },
  {
   "cell_type": "code",
   "execution_count": 182,
   "id": "5a9f2192",
   "metadata": {},
   "outputs": [
    {
     "data": {
      "text/plain": [
       "0    282\n",
       "2    172\n",
       "1    122\n",
       "Name: Label, dtype: int64"
      ]
     },
     "execution_count": 182,
     "metadata": {},
     "output_type": "execute_result"
    }
   ],
   "source": [
    "data1['Label'].value_counts() # checking the distributions of labels in data1"
   ]
  },
  {
   "cell_type": "code",
   "execution_count": 183,
   "id": "15243830",
   "metadata": {},
   "outputs": [
    {
     "data": {
      "text/plain": [
       "0    211\n",
       "1    168\n",
       "2    121\n",
       "Name: label, dtype: int64"
      ]
     },
     "execution_count": 183,
     "metadata": {},
     "output_type": "execute_result"
    }
   ],
   "source": [
    "data2['label'].value_counts() # checking the distributions of labels in data2"
   ]
  },
  {
   "cell_type": "code",
   "execution_count": 184,
   "id": "98e5730c",
   "metadata": {},
   "outputs": [],
   "source": [
    "data1.drop('Sentiment', axis=1, inplace=True)"
   ]
  },
  {
   "cell_type": "code",
   "execution_count": 185,
   "id": "fe22ab6c",
   "metadata": {},
   "outputs": [
    {
     "data": {
      "text/html": [
       "<div>\n",
       "<style scoped>\n",
       "    .dataframe tbody tr th:only-of-type {\n",
       "        vertical-align: middle;\n",
       "    }\n",
       "\n",
       "    .dataframe tbody tr th {\n",
       "        vertical-align: top;\n",
       "    }\n",
       "\n",
       "    .dataframe thead th {\n",
       "        text-align: right;\n",
       "    }\n",
       "</style>\n",
       "<table border=\"1\" class=\"dataframe\">\n",
       "  <thead>\n",
       "    <tr style=\"text-align: right;\">\n",
       "      <th></th>\n",
       "      <th>ID</th>\n",
       "      <th>Phrase</th>\n",
       "      <th>Label</th>\n",
       "    </tr>\n",
       "  </thead>\n",
       "  <tbody>\n",
       "    <tr>\n",
       "      <th>0</th>\n",
       "      <td>1</td>\n",
       "      <td>Getting nowhere with surplusage</td>\n",
       "      <td>0</td>\n",
       "    </tr>\n",
       "    <tr>\n",
       "      <th>1</th>\n",
       "      <td>2</td>\n",
       "      <td>But the Court nowhere suggested that it would ...</td>\n",
       "      <td>0</td>\n",
       "    </tr>\n",
       "    <tr>\n",
       "      <th>2</th>\n",
       "      <td>3</td>\n",
       "      <td>Petitioners objection to shaving his beard cla...</td>\n",
       "      <td>0</td>\n",
       "    </tr>\n",
       "    <tr>\n",
       "      <th>3</th>\n",
       "      <td>4</td>\n",
       "      <td>That result clashes with everything else</td>\n",
       "      <td>0</td>\n",
       "    </tr>\n",
       "    <tr>\n",
       "      <th>4</th>\n",
       "      <td>5</td>\n",
       "      <td>the tolerable duration of police inquiries in ...</td>\n",
       "      <td>1</td>\n",
       "    </tr>\n",
       "  </tbody>\n",
       "</table>\n",
       "</div>"
      ],
      "text/plain": [
       "   ID                                             Phrase  Label\n",
       "0   1                    Getting nowhere with surplusage      0\n",
       "1   2  But the Court nowhere suggested that it would ...      0\n",
       "2   3  Petitioners objection to shaving his beard cla...      0\n",
       "3   4           That result clashes with everything else      0\n",
       "4   5  the tolerable duration of police inquiries in ...      1"
      ]
     },
     "execution_count": 185,
     "metadata": {},
     "output_type": "execute_result"
    }
   ],
   "source": [
    "data1.head()"
   ]
  },
  {
   "cell_type": "code",
   "execution_count": 186,
   "id": "fb347937",
   "metadata": {},
   "outputs": [
    {
     "data": {
      "text/html": [
       "<div>\n",
       "<style scoped>\n",
       "    .dataframe tbody tr th:only-of-type {\n",
       "        vertical-align: middle;\n",
       "    }\n",
       "\n",
       "    .dataframe tbody tr th {\n",
       "        vertical-align: top;\n",
       "    }\n",
       "\n",
       "    .dataframe thead th {\n",
       "        text-align: right;\n",
       "    }\n",
       "</style>\n",
       "<table border=\"1\" class=\"dataframe\">\n",
       "  <thead>\n",
       "    <tr style=\"text-align: right;\">\n",
       "      <th></th>\n",
       "      <th>ID</th>\n",
       "      <th>sentence</th>\n",
       "      <th>label</th>\n",
       "    </tr>\n",
       "  </thead>\n",
       "  <tbody>\n",
       "    <tr>\n",
       "      <th>0</th>\n",
       "      <td>1</td>\n",
       "      <td>has done nothing to satisfy the probable-cause...</td>\n",
       "      <td>0</td>\n",
       "    </tr>\n",
       "    <tr>\n",
       "      <th>1</th>\n",
       "      <td>2</td>\n",
       "      <td>Addressing that question here , the CCA referr...</td>\n",
       "      <td>1</td>\n",
       "    </tr>\n",
       "    <tr>\n",
       "      <th>2</th>\n",
       "      <td>3</td>\n",
       "      <td>standards and procedures</td>\n",
       "      <td>1</td>\n",
       "    </tr>\n",
       "    <tr>\n",
       "      <th>3</th>\n",
       "      <td>4</td>\n",
       "      <td>has no comprehension of why he has been single...</td>\n",
       "      <td>0</td>\n",
       "    </tr>\n",
       "    <tr>\n",
       "      <th>4</th>\n",
       "      <td>5</td>\n",
       "      <td>an expert , Dr. Woods , who offered the opinio...</td>\n",
       "      <td>2</td>\n",
       "    </tr>\n",
       "  </tbody>\n",
       "</table>\n",
       "</div>"
      ],
      "text/plain": [
       "   ID                                           sentence  label\n",
       "0   1  has done nothing to satisfy the probable-cause...      0\n",
       "1   2  Addressing that question here , the CCA referr...      1\n",
       "2   3                           standards and procedures      1\n",
       "3   4  has no comprehension of why he has been single...      0\n",
       "4   5  an expert , Dr. Woods , who offered the opinio...      2"
      ]
     },
     "execution_count": 186,
     "metadata": {},
     "output_type": "execute_result"
    }
   ],
   "source": [
    "data2.head()"
   ]
  },
  {
   "cell_type": "code",
   "execution_count": 187,
   "id": "b0e9ba0f",
   "metadata": {},
   "outputs": [
    {
     "data": {
      "text/plain": [
       "(576, 3)"
      ]
     },
     "execution_count": 187,
     "metadata": {},
     "output_type": "execute_result"
    }
   ],
   "source": [
    "data1.shape"
   ]
  },
  {
   "cell_type": "code",
   "execution_count": 188,
   "id": "135550df",
   "metadata": {},
   "outputs": [
    {
     "data": {
      "text/plain": [
       "(500, 3)"
      ]
     },
     "execution_count": 188,
     "metadata": {},
     "output_type": "execute_result"
    }
   ],
   "source": [
    "data2.shape"
   ]
  },
  {
   "cell_type": "code",
   "execution_count": 189,
   "id": "7297a216",
   "metadata": {},
   "outputs": [],
   "source": [
    "# Preprocess the text data\n",
    "data1['Phrase'] = data1['Phrase'].str.lower().str.replace('[^\\w\\s]', '')\n",
    "data2['sentence'] = data2['sentence'].str.lower().str.replace('[^\\w\\s]', '')"
   ]
  },
  {
   "cell_type": "markdown",
   "id": "c5ba0349",
   "metadata": {},
   "source": [
    "# Semantic Analysis"
   ]
  },
  {
   "cell_type": "code",
   "execution_count": 190,
   "id": "beb5b312",
   "metadata": {},
   "outputs": [
    {
     "name": "stdout",
     "output_type": "stream",
     "text": [
      "Top 10 keywords: ['case' 'conduct' 'court' 'courts' 'district' 'evidence' 'law' 'offense'\n",
      " 'state' 'trial']\n"
     ]
    }
   ],
   "source": [
    "# Using TF-IDF for keyword extraction on training data (data1)\n",
    "vectorizer_tfidf = TfidfVectorizer(max_df=0.85, stop_words='english', max_features=10)\n",
    "tfidf = vectorizer_tfidf.fit_transform(data1['Phrase'])\n",
    "\n",
    "# Displaying top 10 keywords\n",
    "print(\"Top 10 keywords:\", vectorizer_tfidf.get_feature_names_out())\n"
   ]
  },
  {
   "cell_type": "markdown",
   "id": "aae6bca0",
   "metadata": {},
   "source": [
    "# Sentiment Analysis"
   ]
  },
  {
   "cell_type": "code",
   "execution_count": 191,
   "id": "7e7733a4",
   "metadata": {},
   "outputs": [],
   "source": [
    "def label_sentiment(value):\n",
    "    if value == 0:\n",
    "        return \"negative\"\n",
    "    elif value == 1:\n",
    "        return \"neutral\"\n",
    "    else:\n",
    "        return \"positive\"\n",
    "\n",
    "data1['Label'] = data1['Label'].apply(label_sentiment)\n",
    "data2['label'] = data2['label'].apply(label_sentiment)\n"
   ]
  },
  {
   "cell_type": "code",
   "execution_count": 192,
   "id": "6693eafe",
   "metadata": {},
   "outputs": [],
   "source": [
    "# Define training and test sets\n",
    "X_train = data1['Phrase']\n",
    "y_train = data1['Label']\n",
    "# splitting data2 into validation and testing dataset\n",
    "X_val, X_test, y_val, y_test = train_test_split(data2['sentence'], data2['label'], test_size=0.5, random_state=42)\n"
   ]
  },
  {
   "cell_type": "code",
   "execution_count": 193,
   "id": "c8f6b0dc",
   "metadata": {},
   "outputs": [
    {
     "name": "stdout",
     "output_type": "stream",
     "text": [
      "['negative' 'positive' 'neutral']\n"
     ]
    }
   ],
   "source": [
    "print(y_test.unique())\n"
   ]
  },
  {
   "cell_type": "code",
   "execution_count": 194,
   "id": "12666f9b",
   "metadata": {},
   "outputs": [
    {
     "name": "stdout",
     "output_type": "stream",
     "text": [
      "['negative' 'neutral' 'positive']\n"
     ]
    }
   ],
   "source": [
    "print(y_train.unique())\n"
   ]
  },
  {
   "cell_type": "code",
   "execution_count": 195,
   "id": "73b810c9",
   "metadata": {},
   "outputs": [
    {
     "name": "stdout",
     "output_type": "stream",
     "text": [
      "['neutral' 'positive' 'negative']\n"
     ]
    }
   ],
   "source": [
    "print(y_val.unique())"
   ]
  },
  {
   "cell_type": "markdown",
   "id": "03a91c32",
   "metadata": {},
   "source": [
    "# Model Building "
   ]
  },
  {
   "cell_type": "code",
   "execution_count": 196,
   "id": "0d309b30",
   "metadata": {},
   "outputs": [
    {
     "data": {
      "text/html": [
       "<style>#sk-container-id-17 {color: black;background-color: white;}#sk-container-id-17 pre{padding: 0;}#sk-container-id-17 div.sk-toggleable {background-color: white;}#sk-container-id-17 label.sk-toggleable__label {cursor: pointer;display: block;width: 100%;margin-bottom: 0;padding: 0.3em;box-sizing: border-box;text-align: center;}#sk-container-id-17 label.sk-toggleable__label-arrow:before {content: \"▸\";float: left;margin-right: 0.25em;color: #696969;}#sk-container-id-17 label.sk-toggleable__label-arrow:hover:before {color: black;}#sk-container-id-17 div.sk-estimator:hover label.sk-toggleable__label-arrow:before {color: black;}#sk-container-id-17 div.sk-toggleable__content {max-height: 0;max-width: 0;overflow: hidden;text-align: left;background-color: #f0f8ff;}#sk-container-id-17 div.sk-toggleable__content pre {margin: 0.2em;color: black;border-radius: 0.25em;background-color: #f0f8ff;}#sk-container-id-17 input.sk-toggleable__control:checked~div.sk-toggleable__content {max-height: 200px;max-width: 100%;overflow: auto;}#sk-container-id-17 input.sk-toggleable__control:checked~label.sk-toggleable__label-arrow:before {content: \"▾\";}#sk-container-id-17 div.sk-estimator input.sk-toggleable__control:checked~label.sk-toggleable__label {background-color: #d4ebff;}#sk-container-id-17 div.sk-label input.sk-toggleable__control:checked~label.sk-toggleable__label {background-color: #d4ebff;}#sk-container-id-17 input.sk-hidden--visually {border: 0;clip: rect(1px 1px 1px 1px);clip: rect(1px, 1px, 1px, 1px);height: 1px;margin: -1px;overflow: hidden;padding: 0;position: absolute;width: 1px;}#sk-container-id-17 div.sk-estimator {font-family: monospace;background-color: #f0f8ff;border: 1px dotted black;border-radius: 0.25em;box-sizing: border-box;margin-bottom: 0.5em;}#sk-container-id-17 div.sk-estimator:hover {background-color: #d4ebff;}#sk-container-id-17 div.sk-parallel-item::after {content: \"\";width: 100%;border-bottom: 1px solid gray;flex-grow: 1;}#sk-container-id-17 div.sk-label:hover label.sk-toggleable__label {background-color: #d4ebff;}#sk-container-id-17 div.sk-serial::before {content: \"\";position: absolute;border-left: 1px solid gray;box-sizing: border-box;top: 0;bottom: 0;left: 50%;z-index: 0;}#sk-container-id-17 div.sk-serial {display: flex;flex-direction: column;align-items: center;background-color: white;padding-right: 0.2em;padding-left: 0.2em;position: relative;}#sk-container-id-17 div.sk-item {position: relative;z-index: 1;}#sk-container-id-17 div.sk-parallel {display: flex;align-items: stretch;justify-content: center;background-color: white;position: relative;}#sk-container-id-17 div.sk-item::before, #sk-container-id-17 div.sk-parallel-item::before {content: \"\";position: absolute;border-left: 1px solid gray;box-sizing: border-box;top: 0;bottom: 0;left: 50%;z-index: -1;}#sk-container-id-17 div.sk-parallel-item {display: flex;flex-direction: column;z-index: 1;position: relative;background-color: white;}#sk-container-id-17 div.sk-parallel-item:first-child::after {align-self: flex-end;width: 50%;}#sk-container-id-17 div.sk-parallel-item:last-child::after {align-self: flex-start;width: 50%;}#sk-container-id-17 div.sk-parallel-item:only-child::after {width: 0;}#sk-container-id-17 div.sk-dashed-wrapped {border: 1px dashed gray;margin: 0 0.4em 0.5em 0.4em;box-sizing: border-box;padding-bottom: 0.4em;background-color: white;}#sk-container-id-17 div.sk-label label {font-family: monospace;font-weight: bold;display: inline-block;line-height: 1.2em;}#sk-container-id-17 div.sk-label-container {text-align: center;}#sk-container-id-17 div.sk-container {/* jupyter's `normalize.less` sets `[hidden] { display: none; }` but bootstrap.min.css set `[hidden] { display: none !important; }` so we also need the `!important` here to be able to override the default hidden behavior on the sphinx rendered scikit-learn.org. See: https://github.com/scikit-learn/scikit-learn/issues/21755 */display: inline-block !important;position: relative;}#sk-container-id-17 div.sk-text-repr-fallback {display: none;}</style><div id=\"sk-container-id-17\" class=\"sk-top-container\"><div class=\"sk-text-repr-fallback\"><pre>RandomForestClassifier()</pre><b>In a Jupyter environment, please rerun this cell to show the HTML representation or trust the notebook. <br />On GitHub, the HTML representation is unable to render, please try loading this page with nbviewer.org.</b></div><div class=\"sk-container\" hidden><div class=\"sk-item\"><div class=\"sk-estimator sk-toggleable\"><input class=\"sk-toggleable__control sk-hidden--visually\" id=\"sk-estimator-id-25\" type=\"checkbox\" checked><label for=\"sk-estimator-id-25\" class=\"sk-toggleable__label sk-toggleable__label-arrow\">RandomForestClassifier</label><div class=\"sk-toggleable__content\"><pre>RandomForestClassifier()</pre></div></div></div></div></div>"
      ],
      "text/plain": [
       "RandomForestClassifier()"
      ]
     },
     "execution_count": 196,
     "metadata": {},
     "output_type": "execute_result"
    }
   ],
   "source": [
    "# Vectorizing the phrases using TF-IDF\n",
    "tfidf_vectorizer = TfidfVectorizer(stop_words='english')\n",
    "X_train_vec = tfidf_vectorizer.fit_transform(X_train)\n",
    "X_test_vec = tfidf_vectorizer.transform(X_test)\n",
    "X_val_vec = tfidf_vectorizer.transform(X_val)\n",
    "\n",
    "# Initialize the classifier\n",
    "rf_classifier = RandomForestClassifier()\n",
    "\n",
    "# Train the classifier\n",
    "rf_classifier.fit(X_train_vec, y_train)\n"
   ]
  },
  {
   "cell_type": "markdown",
   "id": "be8d2b15",
   "metadata": {},
   "source": [
    "# Evaluate on the validation set Before GridSearch"
   ]
  },
  {
   "cell_type": "code",
   "execution_count": 197,
   "id": "99282498",
   "metadata": {},
   "outputs": [
    {
     "name": "stdout",
     "output_type": "stream",
     "text": [
      "Performance metrics on validation set (before GridSearchCV):\n",
      "Accuracy: 0.47\n",
      "Precision: 0.53\n",
      "Recall: 0.47\n",
      "F1 Score: 0.37\n",
      "Test Report:\n",
      "               precision    recall  f1-score   support\n",
      "\n",
      "    negative       0.45      0.94      0.61       105\n",
      "     neutral       0.50      0.04      0.07        76\n",
      "    positive       0.68      0.22      0.33        69\n",
      "\n",
      "    accuracy                           0.47       250\n",
      "   macro avg       0.54      0.40      0.34       250\n",
      "weighted avg       0.53      0.47      0.37       250\n",
      "\n"
     ]
    },
    {
     "data": {
      "image/png": "[encoded data removed]",
      "text/plain": [
       "<Figure size 900x500 with 2 Axes>"
      ]
     },
     "metadata": {},
     "output_type": "display_data"
    }
   ],
   "source": [
    "y_pred_val = rf_classifier.predict(X_val_vec)\n",
    "\n",
    "print(\"Performance metrics on validation set (before GridSearchCV):\")\n",
    "\n",
    "# Calculating metrics\n",
    "accuracy = accuracy_score(y_val, y_pred_val)\n",
    "precision = precision_score(y_val, y_pred_val, average='weighted')\n",
    "recall = recall_score(y_val, y_pred_val, average='weighted')\n",
    "f1 = f1_score(y_val, y_pred_val, average='weighted')\n",
    "\n",
    "print(f\"Accuracy: {accuracy:.2f}\")\n",
    "print(f\"Precision: {precision:.2f}\")\n",
    "print(f\"Recall: {recall:.2f}\")\n",
    "print(f\"F1 Score: {f1:.2f}\")\n",
    "\n",
    "# Displaying classification report for test set\n",
    "print(\"Test Report:\\n\", classification_report(y_val, y_pred_val))\n",
    "\n",
    "# Compute the confusion matrix\n",
    "cm = confusion_matrix(y_val, y_pred_val, labels=[\"negative\", \"neutral\", \"positive\"])\n",
    "\n",
    "# Plot the confusion matrix\n",
    "plt.figure(figsize=(9,5))\n",
    "sns.set(font_scale=1.4) # for label size\n",
    "sns.heatmap(cm, annot=True, annot_kws={\"size\": 16}, cmap=\"Blues\", \n",
    "            xticklabels=[\"negative\", \"neutral\", \"positive\"], \n",
    "            yticklabels=[\"negative\", \"neutral\", \"positive\"])\n",
    "\n",
    "plt.xlabel('Predicted')\n",
    "plt.ylabel('True')\n",
    "plt.title('Confusion Matrix')\n",
    "plt.show()\n"
   ]
  },
  {
   "cell_type": "markdown",
   "id": "70e2899a",
   "metadata": {},
   "source": [
    "# Hyperparameter tuning using GridSearchCV\n"
   ]
  },
  {
   "cell_type": "code",
   "execution_count": 205,
   "id": "9e18b241",
   "metadata": {},
   "outputs": [
    {
     "name": "stdout",
     "output_type": "stream",
     "text": [
      "Best Parameters from Grid Search: {'bootstrap': True, 'max_depth': 40, 'min_samples_leaf': 1, 'min_samples_split': 2, 'n_estimators': 150}\n"
     ]
    }
   ],
   "source": [
    "# Define the parameter grid for Random Forest\n",
    "param_grid = {\n",
    "    'n_estimators': [50, 100, 150, 200],\n",
    "    'max_depth': [None, 10, 20, 30, 40],\n",
    "    'min_samples_split': [2, 5, 10],\n",
    "    'min_samples_leaf': [1, 2, 4],\n",
    "    'bootstrap': [True, False]\n",
    "}\n",
    "\n",
    "# Initialize the Random Forest classifier\n",
    "rf_classifier = RandomForestClassifier()\n",
    "\n",
    "# Initialize GridSearchCV\n",
    "grid_search = GridSearchCV(estimator=rf_classifier, param_grid=param_grid, \n",
    "                           cv=10, n_jobs=-1, verbose=0, scoring='accuracy')\n",
    "\n",
    "# Combine training and validation sets for GridSearchCV\n",
    "X_train_val_combined = vstack([X_train_vec, X_val_vec])\n",
    "y_train_val_combined = pd.concat([y_train, y_val], axis=0)\n",
    "\n",
    "grid_search.fit(X_train_val_combined, y_train_val_combined)\n",
    "\n",
    "print(\"Best Parameters from Grid Search:\", grid_search.best_params_)"
   ]
  },
  {
   "cell_type": "code",
   "execution_count": 206,
   "id": "54aba14a",
   "metadata": {},
   "outputs": [
    {
     "name": "stdout",
     "output_type": "stream",
     "text": [
      "Best Parameters from Grid Search: {'bootstrap': True, 'max_depth': 40, 'min_samples_leaf': 1, 'min_samples_split': 2, 'n_estimators': 150}\n"
     ]
    }
   ],
   "source": [
    "\n",
    "# Print the best parameters from the grid search\n",
    "print(\"Best Parameters from Grid Search:\", grid_search.best_params_)\n",
    "\n",
    "# Use the best model to predict on the test set\n",
    "best_rf = grid_search.best_estimator_"
   ]
  },
  {
   "cell_type": "markdown",
   "id": "8626d1cf",
   "metadata": {},
   "source": [
    "#  Evaluate the best model obtained through HyperParameter Tuning on the test set\n"
   ]
  },
  {
   "cell_type": "code",
   "execution_count": 208,
   "id": "8cfffde6",
   "metadata": {},
   "outputs": [
    {
     "name": "stdout",
     "output_type": "stream",
     "text": [
      "Performance metrics for Random Forest with Grid Search:\n",
      "Accuracy: 0.44\n",
      "Precision: 0.64\n",
      "Recall: 0.44\n",
      "F1 Score: 0.30\n",
      "Test Report:\n",
      "               precision    recall  f1-score   support\n",
      "\n",
      "    negative       0.44      0.97      0.60       106\n",
      "     neutral       1.00      0.01      0.02        92\n",
      "    positive       0.43      0.12      0.18        52\n",
      "\n",
      "    accuracy                           0.44       250\n",
      "   macro avg       0.62      0.37      0.27       250\n",
      "weighted avg       0.64      0.44      0.30       250\n",
      "\n"
     ]
    },
    {
     "data": {
      "image/png": "[encoded data removed]",
      "text/plain": [
       "<Figure size 1000x700 with 2 Axes>"
      ]
     },
     "metadata": {},
     "output_type": "display_data"
    }
   ],
   "source": [
    "y_pred_best_rf = best_rf.predict(X_test_vec)\n",
    "\n",
    "# Evaluate the classifier\n",
    "print(\"Performance metrics for Random Forest with Grid Search:\")\n",
    "\n",
    "# Calculating metrics\n",
    "accuracy = accuracy_score(y_test, y_pred_best_rf)\n",
    "precision = precision_score(y_test, y_pred_best_rf, average='weighted')\n",
    "recall = recall_score(y_test, y_pred_best_rf, average='weighted')\n",
    "f1 = f1_score(y_test, y_pred_best_rf, average='weighted')\n",
    "\n",
    "print(f\"Accuracy: {accuracy:.2f}\")\n",
    "print(f\"Precision: {precision:.2f}\")\n",
    "print(f\"Recall: {recall:.2f}\")\n",
    "print(f\"F1 Score: {f1:.2f}\")\n",
    "\n",
    "# Displaying classification report for test set\n",
    "print(\"Test Report:\\n\", classification_report(y_test, y_pred_best_rf))\n",
    "\n",
    "# Compute the confusion matrix\n",
    "cm = confusion_matrix(y_test, y_pred_best_rf, labels=[\"negative\", \"neutral\", \"positive\"])\n",
    "\n",
    "# Plot the confusion matrix\n",
    "plt.figure(figsize=(10,7))\n",
    "sns.set(font_scale=1.4) # for label size\n",
    "sns.heatmap(cm, annot=True, annot_kws={\"size\": 16}, cmap=\"Blues\", \n",
    "            xticklabels=[\"negative\", \"neutral\", \"positive\"], \n",
    "            yticklabels=[\"negative\", \"neutral\", \"positive\"])\n",
    "\n",
    "plt.xlabel('Predicted')\n",
    "plt.ylabel('True')\n",
    "plt.title('Confusion Matrix')\n",
    "plt.show()\n"
   ]
  },
  {
   "cell_type": "markdown",
   "id": "dc2542fc",
   "metadata": {},
   "source": [
    "# Interpretation of Results"
   ]
  },
  {
   "cell_type": "markdown",
   "id": "ae3061dc",
   "metadata": {},
   "source": [
    "\n",
    "Before hyperparameter tuning, the model exhibited an accuracy of 0.47 on the validation set. The precision, recall, and F1-score were 0.53, 0.47, and 0.37 respectively. The 'negative' class had a high recall of 0.94, indicating that the model was proficient at identifying the negative samples. However, the model struggled with the 'neutral' and 'positive' classes, with particularly low recall and F1-scores for the 'neutral' class.\n",
    "\n",
    "After hyperparameter tuning using GridSearchCV, the overall accuracy slightly decreased to 0.44. Interestingly, the precision for the 'neutral' class surged to 1.00, but its recall plummeted to 0.01, meaning the model almost never correctly identified 'neutral' samples despite being highly confident when it did. The 'negative' class maintained a high recall of 0.97. The overall weighted precision increased after tuning, but the recall and F1-score dropped.\n",
    "\n",
    "In summary, hyperparameter tuning did not significantly improve the model's performance on the test set. While the precision for the 'neutral' class increased, the model's ability to identify 'neutral' samples decreased. The model, both before and after tuning, is particularly good at identifying the 'negative' class but struggles with 'neutral' and 'positive' classifications. Further investigations and potentially other techniques might be needed to enhance the model's performance across all classes.\n",
    "\n"
   ]
  }
 ],
 "metadata": {
  "kernelspec": {
   "display_name": "Python 3 (ipykernel)",
   "language": "python",
   "name": "python3"
  },
  "language_info": {
   "codemirror_mode": {
    "name": "ipython",
    "version": 3
   },
   "file_extension": ".py",
   "mimetype": "text/x-python",
   "name": "python",
   "nbconvert_exporter": "python",
   "pygments_lexer": "ipython3",
   "version": "3.10.10"
  }
 },
 "nbformat": 4,
 "nbformat_minor": 5
}
